{
 "cells": [
  {
   "cell_type": "code",
   "execution_count": 143,
   "metadata": {},
   "outputs": [],
   "source": [
    "import numpy as np\n",
    "import polars as pl\n",
    "import pandas as pd\n",
    "from sklearn.model_selection import train_test_split\n",
    "from sklearn.linear_model import LogisticRegression\n",
    "import xgboost as xgb\n",
    "from sklearn import svm\n",
    "from sklearn.metrics import f1_score\n",
    "from sklearn.metrics import roc_auc_score\n",
    "import matplotlib.pyplot as plt\n",
    "from sklearn.metrics import classification_report\n",
    "from sklearn.preprocessing import StandardScaler"
   ]
  },
  {
   "cell_type": "code",
   "execution_count": 193,
   "metadata": {},
   "outputs": [],
   "source": [
    "n_total = 10000\n",
    "ards_p = 0.15\n",
    "\n",
    "n_ards = int(n_total*ards_p)\n",
    "n_non_ards = int(n_total*(1-ards_p))\n",
    "\n",
    "# vars= HR, RR, SpO2, PF, creatinine, lactate\n",
    "mean_ards = [ 80,   30,  90,  75,    3,     5 ]\n",
    "\n",
    "cov_ards = [[  1,  0.1, 0.2, 0.2, 0.1, 0.1],\n",
    "            [0.1,    1, 0.2, 0.8, 0.1, 0.1],\n",
    "            [0.2,  0.2,   1, 0.2, 0.1, 0.1],\n",
    "            [0.2,  0.8, 0.2,   1, 0.2, 0.1],\n",
    "            [0.1, 0.1, 0.1, 0.2,   1, 0.9],\n",
    "            [0.1,  0.1, 0.1, 0.1, 0.9,   1]]\n",
    "\n",
    "mean_non_ards = [80 , 24,  97,  346,   2,  2]\n",
    "cov_non_ards = cov_ards\n",
    "\n",
    "ards =     np.random.multivariate_normal(mean_ards, cov_ards, n_ards)\n",
    "scaler = StandardScaler().fit(ards)\n",
    "ards = scaler.transform(ards)\n",
    "ards = ards + np.random.normal(0,1)\n",
    "\n",
    "non_ards = np.random.multivariate_normal(mean_non_ards, cov_non_ards, n_non_ards)\n",
    "scaler = StandardScaler().fit(non_ards)\n",
    "non_ards = scaler.transform(non_ards)\n",
    "non_ards = non_ards + np.random.normal(0,1)"
   ]
  },
  {
   "cell_type": "code",
   "execution_count": 199,
   "metadata": {},
   "outputs": [
    {
     "data": {
      "text/html": [
       "<div><style>\n",
       ".dataframe > thead > tr > th,\n",
       ".dataframe > tbody > tr > td {\n",
       "  text-align: right;\n",
       "}\n",
       "</style>\n",
       "<small>shape: (19, 4)</small><table border=\"1\" class=\"dataframe\"><thead><tr><th>n</th><th>LogAUROC</th><th>upper</th><th>lower</th></tr><tr><td>i64</td><td>f64</td><td>f64</td><td>f64</td></tr></thead><tbody><tr><td>100</td><td>0.982476</td><td>1.003691</td><td>0.961261</td></tr><tr><td>200</td><td>0.958427</td><td>1.017316</td><td>0.899537</td></tr><tr><td>300</td><td>0.955447</td><td>1.013717</td><td>0.897178</td></tr><tr><td>400</td><td>0.949884</td><td>1.006252</td><td>0.893517</td></tr><tr><td>500</td><td>0.923971</td><td>0.985512</td><td>0.86243</td></tr><tr><td>600</td><td>0.953096</td><td>0.996437</td><td>0.909756</td></tr><tr><td>700</td><td>0.950442</td><td>0.993191</td><td>0.907693</td></tr><tr><td>800</td><td>0.948706</td><td>0.989242</td><td>0.908171</td></tr><tr><td>900</td><td>0.965978</td><td>0.997709</td><td>0.934247</td></tr><tr><td>1000</td><td>0.951704</td><td>0.986179</td><td>0.917229</td></tr><tr><td>1100</td><td>0.952222</td><td>0.986678</td><td>0.917766</td></tr><tr><td>1200</td><td>0.958071</td><td>0.988103</td><td>0.92804</td></tr><tr><td>1300</td><td>0.959254</td><td>0.987739</td><td>0.930769</td></tr><tr><td>1400</td><td>0.95996</td><td>0.987323</td><td>0.932598</td></tr><tr><td>1500</td><td>0.963471</td><td>0.986896</td><td>0.940046</td></tr><tr><td>1600</td><td>0.96001</td><td>0.985723</td><td>0.934297</td></tr><tr><td>1700</td><td>0.959909</td><td>0.985131</td><td>0.934687</td></tr><tr><td>1800</td><td>0.953009</td><td>0.978622</td><td>0.927396</td></tr><tr><td>1900</td><td>0.95467</td><td>0.980499</td><td>0.928841</td></tr></tbody></table></div>"
      ],
      "text/plain": [
       "shape: (19, 4)\n",
       "┌──────┬──────────┬──────────┬──────────┐\n",
       "│ n    ┆ LogAUROC ┆ upper    ┆ lower    │\n",
       "│ ---  ┆ ---      ┆ ---      ┆ ---      │\n",
       "│ i64  ┆ f64      ┆ f64      ┆ f64      │\n",
       "╞══════╪══════════╪══════════╪══════════╡\n",
       "│ 100  ┆ 0.982476 ┆ 1.003691 ┆ 0.961261 │\n",
       "│ 200  ┆ 0.958427 ┆ 1.017316 ┆ 0.899537 │\n",
       "│ 300  ┆ 0.955447 ┆ 1.013717 ┆ 0.897178 │\n",
       "│ 400  ┆ 0.949884 ┆ 1.006252 ┆ 0.893517 │\n",
       "│ …    ┆ …        ┆ …        ┆ …        │\n",
       "│ 1600 ┆ 0.96001  ┆ 0.985723 ┆ 0.934297 │\n",
       "│ 1700 ┆ 0.959909 ┆ 0.985131 ┆ 0.934687 │\n",
       "│ 1800 ┆ 0.953009 ┆ 0.978622 ┆ 0.927396 │\n",
       "│ 1900 ┆ 0.95467  ┆ 0.980499 ┆ 0.928841 │\n",
       "└──────┴──────────┴──────────┴──────────┘"
      ]
     },
     "execution_count": 199,
     "metadata": {},
     "output_type": "execute_result"
    }
   ],
   "source": [
    "# simulation\n",
    "logit_auroc =[]\n",
    "logit_upper = []\n",
    "logit_lower = []\n",
    "\n",
    "\n",
    "samplesize = range(100,2000, 100)\n",
    "for i in samplesize:\n",
    "    temp_logit_auroc = []\n",
    "    temp_upper = []\n",
    "    temp_lower = []\n",
    "    for j in range(10):\n",
    "        # sampling\n",
    "        n_study_ards = int(i*ards_p)\n",
    "        n_study_non_ards = int(i*(1-ards_p))\n",
    "        # ards\n",
    "        idx = np.random.choice(n_ards, n_study_ards, replace= False)\n",
    "        study_ards = ards[idx,:]\n",
    "        # non ards\n",
    "        idx = np.random.choice(n_non_ards, n_study_non_ards, replace= False)\n",
    "        study_non_ards = non_ards[idx,:]\n",
    "        # study y \n",
    "        study_y = []\n",
    "        for i in range(n_study_ards):\n",
    "            study_y.append(1)\n",
    "        for i in range(n_study_non_ards):\n",
    "            study_y.append(0)\n",
    "        # study pop\n",
    "        study_x = np.concatenate((study_ards, study_non_ards)) \n",
    "        # traintest\n",
    "        x_train, x_test, y_train, y_test = train_test_split(study_x, study_y, test_size = 0.3, stratify =study_y)\n",
    "        # logistic regression\n",
    "        logit = LogisticRegression().fit(x_train, y_train)\n",
    "        # test\n",
    "        y_pred = logit.predict(x_test)\n",
    "        y_proba = logit.predict_proba(x_test)[:,1]\n",
    "        auroc = roc_auc_score(y_test, y_proba)\n",
    "        temp_logit_auroc.append(auroc)\n",
    "        se = np.sqrt(auroc*(1-auroc)/len(y_test))\n",
    "        moe = 1.96*se\n",
    "        upper = auroc + moe\n",
    "        lower = auroc - moe\n",
    "        temp_lower.append(lower)\n",
    "        temp_upper.append(upper)\n",
    "    logit_auroc.append(np.mean(temp_logit_auroc))\n",
    "    logit_upper.append(np.mean(temp_upper))\n",
    "    logit_lower.append(np.mean(temp_lower))\n",
    "    \n",
    "res = pl.DataFrame(\n",
    "    {\n",
    "        \"n\": samplesize,\n",
    "        \"LogAUROC\" : logit_auroc,\n",
    "        \"upper\": logit_upper,\n",
    "        \"lower\": logit_lower\n",
    "    }\n",
    ")\n",
    "res"
   ]
  },
  {
   "cell_type": "code",
   "execution_count": 200,
   "metadata": {},
   "outputs": [
    {
     "data": {
      "text/plain": [
       "<matplotlib.legend.Legend at 0x19c366d00>"
      ]
     },
     "execution_count": 200,
     "metadata": {},
     "output_type": "execute_result"
    },
    {
     "data": {
      "image/png": "[encoded data removed]",
      "text/plain": [
       "<Figure size 400x400 with 1 Axes>"
      ]
     },
     "metadata": {},
     "output_type": "display_data"
    }
   ],
   "source": [
    "fig = plt.figure(figsize = (4,4))\n",
    "color = [\"#c20078\",\"#0504aa\",\"#75bbfd\",\"#ffd1df\",\"#c79fef\",\"#014d4e\"]\n",
    "plt.scatter(res[:,0],res[:,1], s=1, c= color[3], label = \"AUROC_Logistic\")\n",
    "plt.fill_between(res[:,0], res[:,3], res[:,2], color='b', alpha=.1)\n",
    "plt.axhline(y = 0.88, color = 'r', linestyle = '-')\n",
    "plt.legend(bbox_to_anchor=(1.1, 1.05))"
   ]
  }
 ],
 "metadata": {
  "kernelspec": {
   "display_name": "umap",
   "language": "python",
   "name": "python3"
  },
  "language_info": {
   "codemirror_mode": {
    "name": "ipython",
    "version": 3
   },
   "file_extension": ".py",
   "mimetype": "text/x-python",
   "name": "python",
   "nbconvert_exporter": "python",
   "pygments_lexer": "ipython3",
   "version": "3.9.16"
  },
  "orig_nbformat": 4
 },
 "nbformat": 4,
 "nbformat_minor": 2
}
